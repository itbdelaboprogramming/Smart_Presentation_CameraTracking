{
 "cells": [
  {
   "cell_type": "code",
   "execution_count": 1,
   "metadata": {},
   "outputs": [
    {
     "ename": "ModuleNotFoundError",
     "evalue": "No module named 'cv2'",
     "output_type": "error",
     "traceback": [
      "\u001b[1;31m---------------------------------------------------------------------------\u001b[0m",
      "\u001b[1;31mModuleNotFoundError\u001b[0m                       Traceback (most recent call last)",
      "Cell \u001b[1;32mIn[1], line 1\u001b[0m\n\u001b[1;32m----> 1\u001b[0m \u001b[39mimport\u001b[39;00m \u001b[39mcv2\u001b[39;00m\n\u001b[0;32m      2\u001b[0m \u001b[39mimport\u001b[39;00m \u001b[39mmediapipe\u001b[39;00m \u001b[39mas\u001b[39;00m \u001b[39mmp\u001b[39;00m\n\u001b[0;32m      4\u001b[0m \u001b[39mclass\u001b[39;00m \u001b[39mhandTracker\u001b[39;00m():\n",
      "\u001b[1;31mModuleNotFoundError\u001b[0m: No module named 'cv2'"
     ]
    }
   ],
   "source": [
    "import cv2\n",
    "import mediapipe as mp\n",
    "\n",
    "class handTracker():\n",
    "    def __init__(self, mode=False, maxHands=2, detectionCon=0.5,modelComplexity=1,trackCon=0.5):\n",
    "        self.mode = mode\n",
    "        self.maxHands = maxHands\n",
    "        self.detectionCon = detectionCon\n",
    "        self.modelComplex = modelComplexity\n",
    "        self.trackCon = trackCon\n",
    "        self.mpHands = mp.solutions.hands\n",
    "        self.hands = self.mpHands.Hands(self.mode, self.maxHands,self.modelComplex,\n",
    "                                        self.detectionCon, self.trackCon)\n",
    "        self.mpDraw = mp.solutions.drawing_utils\n",
    "\n",
    "    def handsFinder(self,image,draw=True):\n",
    "        imageRGB = cv2.cvtColor(image,cv2.COLOR_BGR2RGB)\n",
    "        self.results = self.hands.process(imageRGB)\n",
    "        \n",
    "        if self.results.multi_hand_landmarks:\n",
    "            for handLms in self.results.multi_hand_landmarks:\n",
    "                if draw:\n",
    "                    self.mpDraw.draw_landmarks(image, handLms, self.mpHands.HAND_CONNECTIONS)\n",
    "                    \n",
    "        return image\n",
    "        \n",
    "    def positionFinder(self,image, handNo=0, draw=True):\n",
    "        lmlist = []\n",
    "        if self.results.multi_hand_landmarks:\n",
    "            Hand = self.results.multi_hand_landmarks[handNo]\n",
    "            for id, lm in enumerate(Hand.landmark):\n",
    "                h,w,c = image.shape\n",
    "                cx,cy = int(lm.x*w), int(lm.y*h)\n",
    "                lmlist.append([id,cx,cy])\n",
    "                \n",
    "                if draw:\n",
    "                    cv2.circle(image,(cx,cy), 15 , (255,0,255), cv2.FILLED)\n",
    "        \n",
    "        return lmlist\n",
    "\n",
    "def main():\n",
    "    cap = cv2.VideoCapture(0)\n",
    "    tracker = handTracker()\n",
    "    \n",
    "    while True:\n",
    "        success,image = cap.read()\n",
    "        image = tracker.handsFinder(image)\n",
    "        lmList = tracker.positionFinder(image)\n",
    "        if len(lmList) != 0:\n",
    "            print(lmList[4])\n",
    "            \n",
    "        cv2.imshow(\"Video\",image)\n",
    "        cv2.waitKey(1)\n",
    "\n",
    "\n",
    "if __name__ == \"__main__\":\n",
    "    main()"
   ]
  }
 ],
 "metadata": {
  "kernelspec": {
   "display_name": "Python 3",
   "language": "python",
   "name": "python3"
  },
  "language_info": {
   "codemirror_mode": {
    "name": "ipython",
    "version": 3
   },
   "file_extension": ".py",
   "mimetype": "text/x-python",
   "name": "python",
   "nbconvert_exporter": "python",
   "pygments_lexer": "ipython3",
   "version": "3.11.5"
  },
  "orig_nbformat": 4
 },
 "nbformat": 4,
 "nbformat_minor": 2
}
