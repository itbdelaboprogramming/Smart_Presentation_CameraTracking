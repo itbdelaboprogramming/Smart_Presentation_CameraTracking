{
 "cells": [
  {
   "cell_type": "code",
   "execution_count": 8,
   "metadata": {},
   "outputs": [],
   "source": [
    "import mediapipe as mp\n",
    "from mediapipe.tasks import python\n",
    "from mediapipe.tasks.python import vision\n",
    "\n",
    "BaseOptions = mp.tasks.BaseOptions\n",
    "GestureRecognizer = mp.tasks.vision.GestureRecognizer\n",
    "GestureRecognizerOptions = mp.tasks.vision.GestureRecognizerOptions\n",
    "GestureRecognizerResult = mp.tasks.vision.GestureRecognizerResult\n",
    "VisionRunningMode = mp.tasks.vision.RunningMode"
   ]
  },
  {
   "cell_type": "code",
   "execution_count": 9,
   "metadata": {},
   "outputs": [],
   "source": [
    "model_path = './gesture_recognizer.task'\n",
    "base_options = BaseOptions(model_asset_path=model_path)"
   ]
  },
  {
   "cell_type": "code",
   "execution_count": 10,
   "metadata": {},
   "outputs": [
    {
     "ename": "RuntimeError",
     "evalue": "Unable to open file at c:\\path\\to\\model.task",
     "output_type": "error",
     "traceback": [
      "\u001b[1;31m---------------------------------------------------------------------------\u001b[0m",
      "\u001b[1;31mRuntimeError\u001b[0m                              Traceback (most recent call last)",
      "\u001b[1;32mc:\\xampp\\htdocs\\dashboard\\CameraTracking\\Smart_Presentation_CameraTracking\\learning-mediapipe\\trying.ipynb Cell 3\u001b[0m line \u001b[0;36m9\n\u001b[0;32m      <a href='vscode-notebook-cell:/c%3A/xampp/htdocs/dashboard/CameraTracking/Smart_Presentation_CameraTracking/learning-mediapipe/trying.ipynb#W2sZmlsZQ%3D%3D?line=2'>3</a>\u001b[0m     \u001b[39mprint\u001b[39m(\u001b[39m'\u001b[39m\u001b[39mgesture recognition result: \u001b[39m\u001b[39m{}\u001b[39;00m\u001b[39m'\u001b[39m\u001b[39m.\u001b[39mformat(result))\n\u001b[0;32m      <a href='vscode-notebook-cell:/c%3A/xampp/htdocs/dashboard/CameraTracking/Smart_Presentation_CameraTracking/learning-mediapipe/trying.ipynb#W2sZmlsZQ%3D%3D?line=4'>5</a>\u001b[0m options \u001b[39m=\u001b[39m GestureRecognizerOptions(\n\u001b[0;32m      <a href='vscode-notebook-cell:/c%3A/xampp/htdocs/dashboard/CameraTracking/Smart_Presentation_CameraTracking/learning-mediapipe/trying.ipynb#W2sZmlsZQ%3D%3D?line=5'>6</a>\u001b[0m     base_options\u001b[39m=\u001b[39mBaseOptions(model_asset_path\u001b[39m=\u001b[39m\u001b[39m'\u001b[39m\u001b[39m/path/to/model.task\u001b[39m\u001b[39m'\u001b[39m),\n\u001b[0;32m      <a href='vscode-notebook-cell:/c%3A/xampp/htdocs/dashboard/CameraTracking/Smart_Presentation_CameraTracking/learning-mediapipe/trying.ipynb#W2sZmlsZQ%3D%3D?line=6'>7</a>\u001b[0m     running_mode\u001b[39m=\u001b[39mVisionRunningMode\u001b[39m.\u001b[39mLIVE_STREAM,\n\u001b[0;32m      <a href='vscode-notebook-cell:/c%3A/xampp/htdocs/dashboard/CameraTracking/Smart_Presentation_CameraTracking/learning-mediapipe/trying.ipynb#W2sZmlsZQ%3D%3D?line=7'>8</a>\u001b[0m     result_callback\u001b[39m=\u001b[39mprint_result)\n\u001b[1;32m----> <a href='vscode-notebook-cell:/c%3A/xampp/htdocs/dashboard/CameraTracking/Smart_Presentation_CameraTracking/learning-mediapipe/trying.ipynb#W2sZmlsZQ%3D%3D?line=8'>9</a>\u001b[0m \u001b[39mwith\u001b[39;00m GestureRecognizer\u001b[39m.\u001b[39;49mcreate_from_options(options) \u001b[39mas\u001b[39;00m recognizer:\n\u001b[0;32m     <a href='vscode-notebook-cell:/c%3A/xampp/htdocs/dashboard/CameraTracking/Smart_Presentation_CameraTracking/learning-mediapipe/trying.ipynb#W2sZmlsZQ%3D%3D?line=9'>10</a>\u001b[0m     recognizer\u001b[39m.\u001b[39mrecognize_async(mp_image, frame_timestamp_ms)\n\u001b[0;32m     <a href='vscode-notebook-cell:/c%3A/xampp/htdocs/dashboard/CameraTracking/Smart_Presentation_CameraTracking/learning-mediapipe/trying.ipynb#W2sZmlsZQ%3D%3D?line=10'>11</a>\u001b[0m   \u001b[39m# The detector is initialized. Use it here.\u001b[39;00m\n\u001b[0;32m     <a href='vscode-notebook-cell:/c%3A/xampp/htdocs/dashboard/CameraTracking/Smart_Presentation_CameraTracking/learning-mediapipe/trying.ipynb#W2sZmlsZQ%3D%3D?line=11'>12</a>\u001b[0m   \u001b[39m# ...\u001b[39;00m\n",
      "File \u001b[1;32mc:\\Users\\raiha\\AppData\\Local\\Programs\\Python\\Python311\\Lib\\site-packages\\mediapipe\\tasks\\python\\vision\\gesture_recognizer.py:340\u001b[0m, in \u001b[0;36mGestureRecognizer.create_from_options\u001b[1;34m(cls, options)\u001b[0m\n\u001b[0;32m    317\u001b[0m   options\u001b[39m.\u001b[39mresult_callback(\n\u001b[0;32m    318\u001b[0m       gesture_recognizer_result,\n\u001b[0;32m    319\u001b[0m       image,\n\u001b[0;32m    320\u001b[0m       timestamp\u001b[39m.\u001b[39mvalue \u001b[39m/\u001b[39m\u001b[39m/\u001b[39m _MICRO_SECONDS_PER_MILLISECOND,\n\u001b[0;32m    321\u001b[0m   )\n\u001b[0;32m    323\u001b[0m task_info \u001b[39m=\u001b[39m _TaskInfo(\n\u001b[0;32m    324\u001b[0m     task_graph\u001b[39m=\u001b[39m_TASK_GRAPH_NAME,\n\u001b[0;32m    325\u001b[0m     input_streams\u001b[39m=\u001b[39m[\n\u001b[1;32m   (...)\u001b[0m\n\u001b[0;32m    338\u001b[0m     task_options\u001b[39m=\u001b[39moptions,\n\u001b[0;32m    339\u001b[0m )\n\u001b[1;32m--> 340\u001b[0m \u001b[39mreturn\u001b[39;00m \u001b[39mcls\u001b[39;49m(\n\u001b[0;32m    341\u001b[0m     task_info\u001b[39m.\u001b[39;49mgenerate_graph_config(\n\u001b[0;32m    342\u001b[0m         enable_flow_limiting\u001b[39m=\u001b[39;49moptions\u001b[39m.\u001b[39;49mrunning_mode\n\u001b[0;32m    343\u001b[0m         \u001b[39m==\u001b[39;49m _RunningMode\u001b[39m.\u001b[39;49mLIVE_STREAM\n\u001b[0;32m    344\u001b[0m     ),\n\u001b[0;32m    345\u001b[0m     options\u001b[39m.\u001b[39;49mrunning_mode,\n\u001b[0;32m    346\u001b[0m     packets_callback \u001b[39mif\u001b[39;49;00m options\u001b[39m.\u001b[39;49mresult_callback \u001b[39melse\u001b[39;49;00m \u001b[39mNone\u001b[39;49;00m,\n\u001b[0;32m    347\u001b[0m )\n",
      "File \u001b[1;32mc:\\Users\\raiha\\AppData\\Local\\Programs\\Python\\Python311\\Lib\\site-packages\\mediapipe\\tasks\\python\\vision\\core\\base_vision_task_api.py:70\u001b[0m, in \u001b[0;36mBaseVisionTaskApi.__init__\u001b[1;34m(self, graph_config, running_mode, packet_callback)\u001b[0m\n\u001b[0;32m     65\u001b[0m \u001b[39melif\u001b[39;00m packet_callback:\n\u001b[0;32m     66\u001b[0m   \u001b[39mraise\u001b[39;00m \u001b[39mValueError\u001b[39;00m(\n\u001b[0;32m     67\u001b[0m       \u001b[39m'\u001b[39m\u001b[39mThe vision task is in image or video mode, a user-defined result \u001b[39m\u001b[39m'\u001b[39m\n\u001b[0;32m     68\u001b[0m       \u001b[39m'\u001b[39m\u001b[39mcallback should not be provided.\u001b[39m\u001b[39m'\u001b[39m\n\u001b[0;32m     69\u001b[0m   )\n\u001b[1;32m---> 70\u001b[0m \u001b[39mself\u001b[39m\u001b[39m.\u001b[39m_runner \u001b[39m=\u001b[39m _TaskRunner\u001b[39m.\u001b[39;49mcreate(graph_config, packet_callback)\n\u001b[0;32m     71\u001b[0m \u001b[39mself\u001b[39m\u001b[39m.\u001b[39m_running_mode \u001b[39m=\u001b[39m running_mode\n",
      "\u001b[1;31mRuntimeError\u001b[0m: Unable to open file at c:\\path\\to\\model.task"
     ]
    }
   ],
   "source": [
    "# Create a gesture recognizer instance with the live stream mode:\n",
    "def print_result(result: GestureRecognizerResult, output_image: mp.Image, timestamp_ms: int):\n",
    "    print('gesture recognition result: {}'.format(result))\n",
    "\n",
    "options = GestureRecognizerOptions(\n",
    "    base_options=BaseOptions(model_asset_path='./gesture_recognizer.task'),\n",
    "    running_mode=VisionRunningMode.LIVE_STREAM,\n",
    "    result_callback=print_result)\n",
    "with GestureRecognizer.create_from_options(options) as recognizer:\n",
    "    recognizer.recognize_async(mp_image, frame_timestamp_ms)\n",
    "  # The detector is initialized. Use it here.\n",
    "  # ...\n",
    "    "
   ]
  }
 ],
 "metadata": {
  "kernelspec": {
   "display_name": "Python 3",
   "language": "python",
   "name": "python3"
  },
  "language_info": {
   "codemirror_mode": {
    "name": "ipython",
    "version": 3
   },
   "file_extension": ".py",
   "mimetype": "text/x-python",
   "name": "python",
   "nbconvert_exporter": "python",
   "pygments_lexer": "ipython3",
   "version": "3.11.5"
  },
  "orig_nbformat": 4
 },
 "nbformat": 4,
 "nbformat_minor": 2
}
